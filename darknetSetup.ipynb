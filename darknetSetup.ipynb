{
  "nbformat": 4,
  "nbformat_minor": 0,
  "metadata": {
    "colab": {
      "name": "darknetSetup.ipynb",
      "provenance": []
    },
    "kernelspec": {
      "name": "python3",
      "display_name": "Python 3"
    },
    "accelerator": "GPU"
  },
  "cells": [
    {
      "cell_type": "code",
      "metadata": {
        "id": "RjFnEULNboaw",
        "colab_type": "code",
        "colab": {
          "base_uri": "https://localhost:8080/",
          "height": 121
        },
        "outputId": "d5b6d7cb-4e68-4d2a-de9e-a7145286a528"
      },
      "source": [
        "#Connecting to Drive \n",
        "from google.colab import drive\n",
        "drive.mount('/content/drive')"
      ],
      "execution_count": null,
      "outputs": [
        {
          "output_type": "stream",
          "text": [
            "Go to this URL in a browser: https://accounts.google.com/o/oauth2/auth?client_id=947318989803-6bn6qk8qdgf4n4g3pfee6491hc0brc4i.apps.googleusercontent.com&redirect_uri=urn%3aietf%3awg%3aoauth%3a2.0%3aoob&response_type=code&scope=email%20https%3a%2f%2fwww.googleapis.com%2fauth%2fdocs.test%20https%3a%2f%2fwww.googleapis.com%2fauth%2fdrive%20https%3a%2f%2fwww.googleapis.com%2fauth%2fdrive.photos.readonly%20https%3a%2f%2fwww.googleapis.com%2fauth%2fpeopleapi.readonly\n",
            "\n",
            "Enter your authorization code:\n",
            "··········\n",
            "Mounted at /content/drive\n"
          ],
          "name": "stdout"
        }
      ]
    },
    {
      "cell_type": "code",
      "metadata": {
        "id": "nvIBiNqQcV23",
        "colab_type": "code",
        "colab": {
          "base_uri": "https://localhost:8080/",
          "height": 84
        },
        "outputId": "853d17ac-1571-4a3c-af2f-baf72d75c71a"
      },
      "source": [
        "#Path to darknet\n",
        "%cd 'drive/My Drive/AI Based Driver Assistant'\n",
        "!ls"
      ],
      "execution_count": null,
      "outputs": [
        {
          "output_type": "stream",
          "text": [
            "/content/drive/My Drive/AI Based Driver Assistant\n",
            "anchorCalculations.ipynb  keras-yolo3\n",
            "darknet\t\t\t  modelTraining.ipynb\n",
            "darknetSetup.ipynb\t  weightsChangingAndDataTesting.ipynb\n"
          ],
          "name": "stdout"
        }
      ]
    },
    {
      "cell_type": "code",
      "metadata": {
        "id": "nCdmuvW-c-F8",
        "colab_type": "code",
        "colab": {
          "base_uri": "https://localhost:8080/",
          "height": 118
        },
        "outputId": "f7767a33-a428-4791-93ee-641e8882b4c6"
      },
      "source": [
        "!git clone https://github.com/AlexeyAB/darknet/"
      ],
      "execution_count": null,
      "outputs": [
        {
          "output_type": "stream",
          "text": [
            "Cloning into 'darknet'...\n",
            "remote: Enumerating objects: 11876, done.\u001b[K\n",
            "remote: Total 11876 (delta 0), reused 0 (delta 0), pack-reused 11876\u001b[K\n",
            "Receiving objects: 100% (11876/11876), 11.01 MiB | 7.63 MiB/s, done.\n",
            "Resolving deltas: 100% (8077/8077), done.\n",
            "Checking out files: 100% (1981/1981), done.\n"
          ],
          "name": "stdout"
        }
      ]
    },
    {
      "cell_type": "code",
      "metadata": {
        "id": "rfbTQBcSc_92",
        "colab_type": "code",
        "colab": {
          "base_uri": "https://localhost:8080/",
          "height": 168
        },
        "outputId": "01f315ea-84b2-47ae-9868-888fa42924f8"
      },
      "source": [
        "%cd darknet\n",
        "!ls"
      ],
      "execution_count": null,
      "outputs": [
        {
          "output_type": "stream",
          "text": [
            "/content/drive/My Drive/AI Based Driver Assistant/darknet\n",
            "3rdparty      cfg\t\t      darknet_video.py\t     net_cam_v3.sh\n",
            "anchors.txt   chart.png\t\t      data\t\t     obj\n",
            "appveyor.yml  cloud.png\t\t      image_yolov2.sh\t     README.md\n",
            "backup\t      cmake\t\t      image_yolov3.sh\t     results\n",
            "bad.list      CMakeLists.txt\t      include\t\t     scripts\n",
            "build\t      darknet\t\t      json_mjpeg_streams.sh  src\n",
            "build.ps1     DarknetConfig.cmake.in  LICENSE\t\t     video_v2.sh\n",
            "build.sh      darknet.py\t      Makefile\t\t     video_yolov3.sh\n"
          ],
          "name": "stdout"
        }
      ]
    },
    {
      "cell_type": "code",
      "metadata": {
        "id": "0ZARE2vddHuw",
        "colab_type": "code",
        "colab": {
          "base_uri": "https://localhost:8080/",
          "height": 1000
        },
        "outputId": "311eec45-a570-430d-d0eb-37d1c661ecca"
      },
      "source": [
        "#Download the file and change GPU = 1 ( by default --> 0 ) and OPENCV = 1 ( by default --> 0 )\n",
        "!cat Makefile"
      ],
      "execution_count": null,
      "outputs": [
        {
          "output_type": "stream",
          "text": [
            "GPU=1\n",
            "CUDNN=0\n",
            "CUDNN_HALF=0\n",
            "OPENCV=1\n",
            "AVX=0\n",
            "OPENMP=0\n",
            "LIBSO=0\n",
            "ZED_CAMERA=0\n",
            "\n",
            "# set GPU=1 and CUDNN=1 to speedup on GPU\n",
            "# set CUDNN_HALF=1 to further speedup 3 x times (Mixed-precision on Tensor Cores) GPU: Volta, Xavier, Turing and higher\n",
            "# set AVX=1 and OPENMP=1 to speedup on CPU (if error occurs then set AVX=0)\n",
            "\n",
            "USE_CPP=0\n",
            "DEBUG=0\n",
            "\n",
            "ARCH= -gencode arch=compute_30,code=sm_30 \\\n",
            "      -gencode arch=compute_35,code=sm_35 \\\n",
            "      -gencode arch=compute_50,code=[sm_50,compute_50] \\\n",
            "      -gencode arch=compute_52,code=[sm_52,compute_52] \\\n",
            "\t  -gencode arch=compute_61,code=[sm_61,compute_61]\n",
            "\n",
            "OS := $(shell uname)\n",
            "\n",
            "# Tesla V100\n",
            "# ARCH= -gencode arch=compute_70,code=[sm_70,compute_70]\n",
            "\n",
            "# GeForce RTX 2080 Ti, RTX 2080, RTX 2070, Quadro RTX 8000, Quadro RTX 6000, Quadro RTX 5000, Tesla T4, XNOR Tensor Cores\n",
            "# ARCH= -gencode arch=compute_75,code=[sm_75,compute_75]\n",
            "\n",
            "# Jetson XAVIER\n",
            "# ARCH= -gencode arch=compute_72,code=[sm_72,compute_72]\n",
            "\n",
            "# GTX 1080, GTX 1070, GTX 1060, GTX 1050, GTX 1030, Titan Xp, Tesla P40, Tesla P4\n",
            "# ARCH= -gencode arch=compute_61,code=sm_61 -gencode arch=compute_61,code=compute_61\n",
            "\n",
            "# GP100/Tesla P100 - DGX-1\n",
            "# ARCH= -gencode arch=compute_60,code=sm_60\n",
            "\n",
            "# For Jetson TX1, Tegra X1, DRIVE CX, DRIVE PX - uncomment:\n",
            "# ARCH= -gencode arch=compute_53,code=[sm_53,compute_53]\n",
            "\n",
            "# For Jetson Tx2 or Drive-PX2 uncomment:\n",
            "# ARCH= -gencode arch=compute_62,code=[sm_62,compute_62]\n",
            "\n",
            "\n",
            "VPATH=./src/\n",
            "EXEC=darknet\n",
            "OBJDIR=./obj/\n",
            "\n",
            "ifeq ($(LIBSO), 1)\n",
            "LIBNAMESO=libdarknet.so\n",
            "APPNAMESO=uselib\n",
            "endif\n",
            "\n",
            "ifeq ($(USE_CPP), 1)\n",
            "CC=g++\n",
            "else\n",
            "CC=gcc\n",
            "endif\n",
            "\n",
            "CPP=g++\n",
            "NVCC=nvcc\n",
            "OPTS=-Ofast\n",
            "LDFLAGS= -lm -pthread\n",
            "COMMON= -Iinclude/ -I3rdparty/stb/include\n",
            "CFLAGS=-Wall -Wfatal-errors -Wno-unused-result -Wno-unknown-pragmas -fPIC\n",
            "\n",
            "ifeq ($(DEBUG), 1)\n",
            "#OPTS= -O0 -g\n",
            "#OPTS= -Og -g\n",
            "COMMON+= -DDEBUG\n",
            "CFLAGS+= -DDEBUG\n",
            "else\n",
            "ifeq ($(AVX), 1)\n",
            "CFLAGS+= -ffp-contract=fast -mavx -mavx2 -msse3 -msse4.1 -msse4.2 -msse4a\n",
            "endif\n",
            "endif\n",
            "\n",
            "CFLAGS+=$(OPTS)\n",
            "\n",
            "ifneq (,$(findstring MSYS_NT,$(OS)))\n",
            "LDFLAGS+=-lws2_32\n",
            "endif\n",
            "\n",
            "ifeq ($(OPENCV), 1)\n",
            "COMMON+= -DOPENCV\n",
            "CFLAGS+= -DOPENCV\n",
            "LDFLAGS+= `pkg-config --libs opencv`\n",
            "COMMON+= `pkg-config --cflags opencv`\n",
            "endif\n",
            "\n",
            "ifeq ($(OPENMP), 1)\n",
            "CFLAGS+= -fopenmp\n",
            "LDFLAGS+= -lgomp\n",
            "endif\n",
            "\n",
            "ifeq ($(GPU), 1)\n",
            "COMMON+= -DGPU -I/usr/local/cuda/include/\n",
            "CFLAGS+= -DGPU\n",
            "ifeq ($(OS),Darwin) #MAC\n",
            "LDFLAGS+= -L/usr/local/cuda/lib -lcuda -lcudart -lcublas -lcurand\n",
            "else\n",
            "LDFLAGS+= -L/usr/local/cuda/lib64 -lcuda -lcudart -lcublas -lcurand\n",
            "endif\n",
            "endif\n",
            "\n",
            "ifeq ($(CUDNN), 1)\n",
            "COMMON+= -DCUDNN\n",
            "ifeq ($(OS),Darwin) #MAC\n",
            "CFLAGS+= -DCUDNN -I/usr/local/cuda/include\n",
            "LDFLAGS+= -L/usr/local/cuda/lib -lcudnn\n",
            "else\n",
            "CFLAGS+= -DCUDNN -I/usr/local/cudnn/include\n",
            "LDFLAGS+= -L/usr/local/cudnn/lib64 -lcudnn\n",
            "endif\n",
            "endif\n",
            "\n",
            "ifeq ($(CUDNN_HALF), 1)\n",
            "COMMON+= -DCUDNN_HALF\n",
            "CFLAGS+= -DCUDNN_HALF\n",
            "ARCH+= -gencode arch=compute_70,code=[sm_70,compute_70]\n",
            "endif\n",
            "\n",
            "ifeq ($(ZED_CAMERA), 1)\n",
            "CFLAGS+= -DZED_STEREO -I/usr/local/zed/include\n",
            "LDFLAGS+= -L/usr/local/zed/lib -lsl_core -lsl_input -lsl_zed\n",
            "#-lstdc++ -D_GLIBCXX_USE_CXX11_ABI=0 \n",
            "endif\n",
            "\n",
            "OBJ=image_opencv.o http_stream.o gemm.o utils.o dark_cuda.o convolutional_layer.o list.o image.o activations.o im2col.o col2im.o blas.o crop_layer.o dropout_layer.o maxpool_layer.o softmax_layer.o data.o matrix.o network.o connected_layer.o cost_layer.o parser.o option_list.o darknet.o detection_layer.o captcha.o route_layer.o writing.o box.o nightmare.o normalization_layer.o avgpool_layer.o coco.o dice.o yolo.o detector.o layer.o compare.o classifier.o local_layer.o swag.o shortcut_layer.o activation_layer.o rnn_layer.o gru_layer.o rnn.o rnn_vid.o crnn_layer.o demo.o tag.o cifar.o go.o batchnorm_layer.o art.o region_layer.o reorg_layer.o reorg_old_layer.o super.o voxel.o tree.o yolo_layer.o gaussian_yolo_layer.o upsample_layer.o lstm_layer.o conv_lstm_layer.o scale_channels_layer.o sam_layer.o\n",
            "ifeq ($(GPU), 1) \n",
            "LDFLAGS+= -lstdc++ \n",
            "OBJ+=convolutional_kernels.o activation_kernels.o im2col_kernels.o col2im_kernels.o blas_kernels.o crop_layer_kernels.o dropout_layer_kernels.o maxpool_layer_kernels.o network_kernels.o avgpool_layer_kernels.o\n",
            "endif\n",
            "\n",
            "OBJS = $(addprefix $(OBJDIR), $(OBJ))\n",
            "DEPS = $(wildcard src/*.h) Makefile include/darknet.h\n",
            "\n",
            "all: $(OBJDIR) backup results setchmod $(EXEC) $(LIBNAMESO) $(APPNAMESO)\n",
            "\n",
            "ifeq ($(LIBSO), 1)\n",
            "CFLAGS+= -fPIC\n",
            "\n",
            "$(LIBNAMESO): $(OBJDIR) $(OBJS) include/yolo_v2_class.hpp src/yolo_v2_class.cpp\n",
            "\t$(CPP) -shared -std=c++11 -fvisibility=hidden -DLIB_EXPORTS $(COMMON) $(CFLAGS) $(OBJS) src/yolo_v2_class.cpp -o $@ $(LDFLAGS)\n",
            "\n",
            "$(APPNAMESO): $(LIBNAMESO) include/yolo_v2_class.hpp src/yolo_console_dll.cpp\n",
            "\t$(CPP) -std=c++11 $(COMMON) $(CFLAGS) -o $@ src/yolo_console_dll.cpp $(LDFLAGS) -L ./ -l:$(LIBNAMESO)\n",
            "endif\n",
            "\n",
            "$(EXEC): $(OBJS)\n",
            "\t$(CPP) -std=c++11 $(COMMON) $(CFLAGS) $^ -o $@ $(LDFLAGS)\n",
            "\n",
            "$(OBJDIR)%.o: %.c $(DEPS)\n",
            "\t$(CC) $(COMMON) $(CFLAGS) -c $< -o $@\n",
            "\n",
            "$(OBJDIR)%.o: %.cpp $(DEPS)\n",
            "\t$(CPP) -std=c++11 $(COMMON) $(CFLAGS) -c $< -o $@\n",
            "\n",
            "$(OBJDIR)%.o: %.cu $(DEPS)\n",
            "\t$(NVCC) $(ARCH) $(COMMON) --compiler-options \"$(CFLAGS)\" -c $< -o $@\n",
            "\n",
            "$(OBJDIR):\n",
            "\tmkdir -p $(OBJDIR)\n",
            "backup:\n",
            "\tmkdir -p backup\n",
            "results:\n",
            "\tmkdir -p results\n",
            "setchmod:\n",
            "\tchmod +x *.sh\n",
            "\n",
            ".PHONY: clean\n",
            "\n",
            "clean:\n",
            "\trm -rf $(OBJS) $(EXEC) $(LIBNAMESO) $(APPNAMESO)\n"
          ],
          "name": "stdout"
        }
      ]
    },
    {
      "cell_type": "code",
      "metadata": {
        "id": "7uaiSgyDdqJf",
        "colab_type": "code",
        "colab": {
          "base_uri": "https://localhost:8080/",
          "height": 34
        },
        "outputId": "2d0eb30a-3115-43ab-c545-e6d7e26a5555"
      },
      "source": [
        "!make"
      ],
      "execution_count": null,
      "outputs": [
        {
          "output_type": "stream",
          "text": [
            "chmod +x *.sh\n"
          ],
          "name": "stdout"
        }
      ]
    },
    {
      "cell_type": "code",
      "metadata": {
        "id": "PuKqVQ23eb7x",
        "colab_type": "code",
        "colab": {
          "base_uri": "https://localhost:8080/",
          "height": 34
        },
        "outputId": "6f01ab5d-2477-4cef-d32c-9a01b96f8e46"
      },
      "source": [
        "#checking darknet is working or not\n",
        "!./darknet"
      ],
      "execution_count": null,
      "outputs": [
        {
          "output_type": "stream",
          "text": [
            "/bin/bash: ./darknet: Permission denied\n"
          ],
          "name": "stdout"
        }
      ]
    },
    {
      "cell_type": "code",
      "metadata": {
        "id": "Pow7iEQ4fMd5",
        "colab_type": "code",
        "colab": {}
      },
      "source": [
        ""
      ],
      "execution_count": null,
      "outputs": []
    }
  ]
}