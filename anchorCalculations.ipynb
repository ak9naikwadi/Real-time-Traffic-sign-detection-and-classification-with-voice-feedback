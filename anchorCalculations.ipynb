{
  "nbformat": 4,
  "nbformat_minor": 0,
  "metadata": {
    "colab": {
      "name": "anchorCalculations.ipynb",
      "provenance": []
    },
    "kernelspec": {
      "name": "python3",
      "display_name": "Python 3"
    },
    "accelerator": "GPU"
  },
  "cells": [
    {
      "cell_type": "code",
      "metadata": {
        "id": "XCF5Ch1U4Fd2",
        "colab_type": "code",
        "colab": {
          "base_uri": "https://localhost:8080/",
          "height": 34
        },
        "outputId": "dc831ca9-bf41-4452-9d77-84c356f8267b"
      },
      "source": [
        "#Connecting to Drive \n",
        "from google.colab import drive\n",
        "drive.mount('/content/drive')"
      ],
      "execution_count": null,
      "outputs": [
        {
          "output_type": "stream",
          "text": [
            "Drive already mounted at /content/drive; to attempt to forcibly remount, call drive.mount(\"/content/drive\", force_remount=True).\n"
          ],
          "name": "stdout"
        }
      ]
    },
    {
      "cell_type": "code",
      "metadata": {
        "id": "gvgAeF_39yQq",
        "colab_type": "code",
        "colab": {
          "base_uri": "https://localhost:8080/",
          "height": 50
        },
        "outputId": "b695a6d4-34d4-41bb-9cd2-9412f82458b3"
      },
      "source": [
        "#redirecting to Path\n",
        "%cd 'drive/My Drive/AI Based Driver Assistant/darknet'\n",
        "#!pwd\n",
        "#!ls"
      ],
      "execution_count": null,
      "outputs": [
        {
          "output_type": "stream",
          "text": [
            "[Errno 2] No such file or directory: 'drive/My Drive/AI Based Driver Assistant/darknet'\n",
            "/content/drive/My Drive/AI Based Driver Assistant/darknet\n"
          ],
          "name": "stdout"
        }
      ]
    },
    {
      "cell_type": "code",
      "metadata": {
        "id": "nGNo7AXt99yv",
        "colab_type": "code",
        "colab": {}
      },
      "source": [
        "#Granting executable permission\n",
        "!chmod u+x darknet"
      ],
      "execution_count": null,
      "outputs": []
    },
    {
      "cell_type": "code",
      "metadata": {
        "id": "o5q7DGPFAD-1",
        "colab_type": "code",
        "colab": {
          "base_uri": "https://localhost:8080/",
          "height": 101
        },
        "outputId": "8f52cb35-37a8-4e6d-e187-9a9cf8d9b58b"
      },
      "source": [
        "!cat build/darknet/x64/data/obj.data"
      ],
      "execution_count": null,
      "outputs": [
        {
          "output_type": "stream",
          "text": [
            "classes = 44\r\n",
            "train=build/darknet/x64/data/train.txt\r\n",
            "test=build/darknet/x64/data/train.txt\r\n",
            "names=build/darknet/x64/data/obj.names\r\n",
            "backup=build/darknet/x64/backup/"
          ],
          "name": "stdout"
        }
      ]
    },
    {
      "cell_type": "code",
      "metadata": {
        "id": "4mzbSFzZ-gyu",
        "colab_type": "code",
        "colab": {
          "base_uri": "https://localhost:8080/",
          "height": 370
        },
        "outputId": "df2df3c0-49d0-4831-ba5b-90759db9c2ef"
      },
      "source": [
        "!./darknet detector calc_anchors build/darknet/x64/data/obj.data -num_of_clusters 6 -width 416 -height 416 -show"
      ],
      "execution_count": null,
      "outputs": [
        {
          "output_type": "stream",
          "text": [
            "\n",
            " num_of_clusters = 6, width = 416, height = 416 \n",
            " read labels from 8115 images \n",
            " loaded \t image: 6644 \t box: 9230Can't open label file. (This can be normal only if you use MSCOCO): build/darknet/x64/data/obj/006695.txt \n",
            " loaded Label file name is too short:  \n",
            " loaded \t image: 8114 \t box: 13515Can't open label file. (This can be normal only if you use MSCOCO):  \n",
            "\n",
            " all loaded. \n",
            "\n",
            " calculating k-means++ ...\n",
            "\n",
            " iterations = 36 \n",
            "\n",
            "\n",
            " avg IoU = 77.07 % \n",
            "\n",
            "Saving anchors to the file: anchors.txt \n",
            "anchors =   9, 13,  13, 22,  20, 27,  24, 38,  33, 49,  45, 71\n",
            "Unable to init server: Could not connect: Connection refused\n",
            "\n",
            "(clusters:602): Gtk-\u001b[1;33mWARNING\u001b[0m **: \u001b[34m06:09:46.646\u001b[0m: cannot open display: \n"
          ],
          "name": "stdout"
        }
      ]
    },
    {
      "cell_type": "markdown",
      "metadata": {
        "id": "qu1oeB32ILof",
        "colab_type": "text"
      },
      "source": [
        "Calculates Anchors --> 11, 19,  16, 26,  22, 34,  28, 45,  38, 55,  49, 78"
      ]
    },
    {
      "cell_type": "code",
      "metadata": {
        "id": "uHOEmVdZ-yVd",
        "colab_type": "code",
        "colab": {}
      },
      "source": [
        ""
      ],
      "execution_count": null,
      "outputs": []
    }
  ]
}