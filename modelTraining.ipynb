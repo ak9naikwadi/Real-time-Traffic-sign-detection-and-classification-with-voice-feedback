{
  "nbformat": 4,
  "nbformat_minor": 0,
  "metadata": {
    "colab": {
      "name": "modelTraining.ipynb",
      "provenance": []
    },
    "kernelspec": {
      "name": "python3",
      "display_name": "Python 3"
    },
    "accelerator": "GPU"
  },
  "cells": [
    {
      "cell_type": "code",
      "metadata": {
        "id": "HjQX0dK5LuEG",
        "colab_type": "code",
        "colab": {
          "base_uri": "https://localhost:8080/",
          "height": 121
        },
        "outputId": "6743e22f-c0cd-4da7-b3b4-6a1f6a0d6af7"
      },
      "source": [
        "#Connecting to Drive \n",
        "from google.colab import drive\n",
        "drive.mount('/content/drive')"
      ],
      "execution_count": null,
      "outputs": [
        {
          "output_type": "stream",
          "text": [
            "Go to this URL in a browser: https://accounts.google.com/o/oauth2/auth?client_id=947318989803-6bn6qk8qdgf4n4g3pfee6491hc0brc4i.apps.googleusercontent.com&redirect_uri=urn%3aietf%3awg%3aoauth%3a2.0%3aoob&response_type=code&scope=email%20https%3a%2f%2fwww.googleapis.com%2fauth%2fdocs.test%20https%3a%2f%2fwww.googleapis.com%2fauth%2fdrive%20https%3a%2f%2fwww.googleapis.com%2fauth%2fdrive.photos.readonly%20https%3a%2f%2fwww.googleapis.com%2fauth%2fpeopleapi.readonly\n",
            "\n",
            "Enter your authorization code:\n",
            "··········\n",
            "Mounted at /content/drive\n"
          ],
          "name": "stdout"
        }
      ]
    },
    {
      "cell_type": "code",
      "metadata": {
        "id": "DPELuWZOMBCM",
        "colab_type": "code",
        "colab": {
          "base_uri": "https://localhost:8080/",
          "height": 34
        },
        "outputId": "8ec30887-b628-4ca3-d62e-060cc4c0dcd9"
      },
      "source": [
        "%cd 'drive/My Drive/AI Based Driver Assistant/darknet'"
      ],
      "execution_count": null,
      "outputs": [
        {
          "output_type": "stream",
          "text": [
            "/content/drive/My Drive/AI Based Driver Assistant/darknet\n"
          ],
          "name": "stdout"
        }
      ]
    },
    {
      "cell_type": "code",
      "metadata": {
        "id": "UyB3ATI-MNIH",
        "colab_type": "code",
        "colab": {}
      },
      "source": [
        "!chmod u+x darknet"
      ],
      "execution_count": null,
      "outputs": []
    },
    {
      "cell_type": "code",
      "metadata": {
        "id": "Ku9D16bHMHAR",
        "colab_type": "code",
        "colab": {
          "base_uri": "https://localhost:8080/",
          "height": 588
        },
        "outputId": "361a1afa-2aa1-4d7c-ce43-ce85bd20cfee"
      },
      "source": [
        "!./darknet partial build/darknet/x64/data/yolov3-tiny.cfg build/darknet/x64/data/yolov3-tiny.weights build/darknet/x64/data/yolov3-tiny.conv.15 15"
      ],
      "execution_count": null,
      "outputs": [
        {
          "output_type": "stream",
          "text": [
            "net.optimized_memory = 0 \n",
            "batch = 1, time_steps = 1, train = 1 \n",
            "   layer   filters  size/strd(dil)      input                output\n",
            "   0 conv     16       3 x 3/ 1    416 x 416 x   3 ->  416 x 416 x  16 0.150 BF\n",
            "   1 max                2x 2/ 2    416 x 416 x  16 ->  208 x 208 x  16 0.003 BF\n",
            "   2 conv     32       3 x 3/ 1    208 x 208 x  16 ->  208 x 208 x  32 0.399 BF\n",
            "   3 max                2x 2/ 2    208 x 208 x  32 ->  104 x 104 x  32 0.001 BF\n",
            "   4 conv     64       3 x 3/ 1    104 x 104 x  32 ->  104 x 104 x  64 0.399 BF\n",
            "   5 max                2x 2/ 2    104 x 104 x  64 ->   52 x  52 x  64 0.001 BF\n",
            "   6 conv    128       3 x 3/ 1     52 x  52 x  64 ->   52 x  52 x 128 0.399 BF\n",
            "   7 max                2x 2/ 2     52 x  52 x 128 ->   26 x  26 x 128 0.000 BF\n",
            "   8 conv    256       3 x 3/ 1     26 x  26 x 128 ->   26 x  26 x 256 0.399 BF\n",
            "   9 max                2x 2/ 2     26 x  26 x 256 ->   13 x  13 x 256 0.000 BF\n",
            "  10 conv    512       3 x 3/ 1     13 x  13 x 256 ->   13 x  13 x 512 0.399 BF\n",
            "  11 max                2x 2/ 1     13 x  13 x 512 ->   13 x  13 x 512 0.000 BF\n",
            "  12 conv   1024       3 x 3/ 1     13 x  13 x 512 ->   13 x  13 x1024 1.595 BF\n",
            "  13 conv    256       1 x 1/ 1     13 x  13 x1024 ->   13 x  13 x 256 0.089 BF\n",
            "  14 conv    512       3 x 3/ 1     13 x  13 x 256 ->   13 x  13 x 512 0.399 BF\n",
            "  15 conv    255       1 x 1/ 1     13 x  13 x 512 ->   13 x  13 x 255 0.044 BF\n",
            "  16 yolo\n",
            "[yolo] params: iou loss: mse (2), iou_norm: 0.75, cls_norm: 1.00, scale_x_y: 1.00\n",
            "  17 route  13 \t\t                           ->   13 x  13 x 256 \n",
            "  18 conv    128       1 x 1/ 1     13 x  13 x 256 ->   13 x  13 x 128 0.011 BF\n",
            "  19 upsample                 2x    13 x  13 x 128 ->   26 x  26 x 128\n",
            "  20 route  19 8 \t                           ->   26 x  26 x 384 \n",
            "  21 conv    256       3 x 3/ 1     26 x  26 x 384 ->   26 x  26 x 256 1.196 BF\n",
            "  22 conv    255       1 x 1/ 1     26 x  26 x 256 ->   26 x  26 x 255 0.088 BF\n",
            "  23 yolo\n",
            "[yolo] params: iou loss: mse (2), iou_norm: 0.75, cls_norm: 1.00, scale_x_y: 1.00\n",
            "Total BFLOPS 5.571 \n",
            "Loading weights from build/darknet/x64/data/yolov3-tiny.weights...\n",
            " seen 64 \n",
            "Done! Loaded 15 layers from weights-file \n",
            "Saving weights to build/darknet/x64/data/yolov3-tiny.conv.15\n"
          ],
          "name": "stdout"
        }
      ]
    },
    {
      "cell_type": "code",
      "metadata": {
        "id": "gVRTw9JzMLnS",
        "colab_type": "code",
        "colab": {
          "base_uri": "https://localhost:8080/",
          "height": 994
        },
        "outputId": "0d9fb465-6a1d-4638-f7c1-654cea20bd2d"
      },
      "source": [
        "!./darknet detector train build/darknet/x64/data/obj.data build/darknet/x64/data/yolov3-tiny-obj.cfg build/darknet/x64/data/yolov3-tiny.conv.15 -dont_show"
      ],
      "execution_count": null,
      "outputs": [
        {
          "output_type": "stream",
          "text": [
            "v3 (mse loss, Normalizer: (iou: 0.750000, cls: 1.000000) Region 23 Avg (IOU: 0.619163, GIOU: 0.584541), Class: 0.897973, Obj: 0.484272, No Obj: 0.000341, .5R: 0.700000, .75R: 0.300000, count: 10, loss = 1.215819, class_loss = 0.801151, iou_loss = 0.414668\n",
            "v3 (mse loss, Normalizer: (iou: 0.750000, cls: 1.000000) Region 16 Avg (IOU: 0.813654, GIOU: 0.810116), Class: 0.985681, Obj: 0.845436, No Obj: 0.001138, .5R: 1.000000, .75R: 0.833333, count: 6, loss = 0.163131, class_loss = 0.116518, iou_loss = 0.046613\n",
            "v3 (mse loss, Normalizer: (iou: 0.750000, cls: 1.000000) Region 23 Avg (IOU: 0.608327, GIOU: 0.576045), Class: 0.901053, Obj: 0.097846, No Obj: 0.000104, .5R: 0.800000, .75R: 0.000000, count: 5, loss = 0.719273, class_loss = 0.570351, iou_loss = 0.148921\n",
            "v3 (mse loss, Normalizer: (iou: 0.750000, cls: 1.000000) Region 16 Avg (IOU: 0.735113, GIOU: 0.717070), Class: 0.895302, Obj: 0.651019, No Obj: 0.001623, .5R: 0.900000, .75R: 0.500000, count: 10, loss = 0.628543, class_loss = 0.471984, iou_loss = 0.156559\n",
            "v3 (mse loss, Normalizer: (iou: 0.750000, cls: 1.000000) Region 23 Avg (IOU: 0.663815, GIOU: 0.640989), Class: 0.921066, Obj: 0.526920, No Obj: 0.000488, .5R: 1.000000, .75R: 0.272727, count: 11, loss = 1.222932, class_loss = 0.978397, iou_loss = 0.244535\n",
            "v3 (mse loss, Normalizer: (iou: 0.750000, cls: 1.000000) Region 16 Avg (IOU: 0.619655, GIOU: 0.592902), Class: 0.993575, Obj: 0.692275, No Obj: 0.001093, .5R: 0.666667, .75R: 0.333333, count: 6, loss = 0.485564, class_loss = 0.289376, iou_loss = 0.196188\n",
            "v3 (mse loss, Normalizer: (iou: 0.750000, cls: 1.000000) Region 23 Avg (IOU: 0.614150, GIOU: 0.582061), Class: 0.743010, Obj: 0.434440, No Obj: 0.000199, .5R: 1.000000, .75R: 0.000000, count: 5, loss = 0.530881, class_loss = 0.394842, iou_loss = 0.136039\n",
            "\n",
            " 14998: 0.600648, 0.517010 avg loss, 0.001000 rate, 1.910695 seconds, 959872 images\n",
            "Loaded: 0.000051 seconds\n",
            "v3 (mse loss, Normalizer: (iou: 0.750000, cls: 1.000000) Region 16 Avg (IOU: 0.685091, GIOU: 0.664029), Class: 0.975588, Obj: 0.678507, No Obj: 0.000658, .5R: 1.000000, .75R: 0.333333, count: 3, loss = 0.331919, class_loss = 0.246768, iou_loss = 0.085151\n",
            "v3 (mse loss, Normalizer: (iou: 0.750000, cls: 1.000000) Region 23 Avg (IOU: 0.680871, GIOU: 0.639898), Class: 0.998548, Obj: 0.696989, No Obj: 0.000177, .5R: 0.750000, .75R: 0.250000, count: 4, loss = 0.338499, class_loss = 0.159073, iou_loss = 0.179426\n",
            "v3 (mse loss, Normalizer: (iou: 0.750000, cls: 1.000000) Region 16 Avg (IOU: 0.656911, GIOU: 0.633606), Class: 0.985775, Obj: 0.614275, No Obj: 0.001338, .5R: 1.000000, .75R: 0.142857, count: 7, loss = 0.704180, class_loss = 0.478628, iou_loss = 0.225552\n",
            "v3 (mse loss, Normalizer: (iou: 0.750000, cls: 1.000000) Region 23 Avg (IOU: 0.721592, GIOU: 0.706852), Class: 0.977253, Obj: 0.408708, No Obj: 0.000096, .5R: 1.000000, .75R: 0.500000, count: 4, loss = 0.301967, class_loss = 0.216417, iou_loss = 0.085550\n",
            "v3 (mse loss, Normalizer: (iou: 0.750000, cls: 1.000000) Region 16 Avg (IOU: 0.724505, GIOU: 0.708766), Class: 0.995634, Obj: 0.807167, No Obj: 0.001075, .5R: 1.000000, .75R: 0.400000, count: 5, loss = 0.208011, class_loss = 0.081014, iou_loss = 0.126998\n",
            "v3 (mse loss, Normalizer: (iou: 0.750000, cls: 1.000000) Region 23 Avg (IOU: 0.590927, GIOU: 0.556406), Class: 0.991479, Obj: 0.355490, No Obj: 0.000242, .5R: 0.714286, .75R: 0.000000, count: 7, loss = 0.796166, class_loss = 0.568063, iou_loss = 0.228103\n",
            "v3 (mse loss, Normalizer: (iou: 0.750000, cls: 1.000000) Region 16 Avg (IOU: 0.738577, GIOU: 0.715424), Class: 0.975545, Obj: 0.668102, No Obj: 0.001187, .5R: 1.000000, .75R: 0.333333, count: 6, loss = 0.408059, class_loss = 0.272447, iou_loss = 0.135613\n",
            "v3 (mse loss, Normalizer: (iou: 0.750000, cls: 1.000000) Region 23 Avg (IOU: 0.757474, GIOU: 0.739920), Class: 0.999757, Obj: 0.663376, No Obj: 0.000109, .5R: 1.000000, .75R: 0.500000, count: 2, loss = 0.086088, class_loss = 0.053640, iou_loss = 0.032448\n",
            "v3 (mse loss, Normalizer: (iou: 0.750000, cls: 1.000000) Region 16 Avg (IOU: 0.824488, GIOU: 0.820491), Class: 0.973176, Obj: 0.642069, No Obj: 0.001156, .5R: 1.000000, .75R: 0.857143, count: 7, loss = 0.312565, class_loss = 0.254510, iou_loss = 0.058055\n",
            "v3 (mse loss, Normalizer: (iou: 0.750000, cls: 1.000000) Region 23 Avg (IOU: 0.717684, GIOU: 0.710430), Class: 0.999742, Obj: 0.507823, No Obj: 0.000218, .5R: 1.000000, .75R: 0.600000, count: 5, loss = 0.343443, class_loss = 0.296882, iou_loss = 0.046561\n",
            "v3 (mse loss, Normalizer: (iou: 0.750000, cls: 1.000000) Region 16 Avg (IOU: 0.759856, GIOU: 0.749848), Class: 0.989004, Obj: 0.736412, No Obj: 0.001505, .5R: 1.000000, .75R: 0.555556, count: 9, loss = 0.433377, class_loss = 0.338306, iou_loss = 0.095071\n",
            "v3 (mse loss, Normalizer: (iou: 0.750000, cls: 1.000000) Region 23 Avg (IOU: -nan, GIOU: -nan), Class: -nan, Obj: -nan, No Obj: 0.000052, .5R: -nan, .75R: -nan, count: 0, loss = 0.054682, class_loss = 0.054682, iou_loss = 0.000000\n",
            "v3 (mse loss, Normalizer: (iou: 0.750000, cls: 1.000000) Region 16 Avg (IOU: 0.558632, GIOU: 0.519988), Class: 0.975065, Obj: 0.540926, No Obj: 0.000963, .5R: 0.714286, .75R: 0.142857, count: 7, loss = 0.599252, class_loss = 0.379352, iou_loss = 0.219901\n",
            "v3 (mse loss, Normalizer: (iou: 0.750000, cls: 1.000000) Region 23 Avg (IOU: 0.746581, GIOU: 0.742047), Class: 0.999381, Obj: 0.595633, No Obj: 0.000287, .5R: 1.000000, .75R: 0.571429, count: 7, loss = 0.387339, class_loss = 0.282352, iou_loss = 0.104987\n",
            "v3 (mse loss, Normalizer: (iou: 0.750000, cls: 1.000000) Region 16 Avg (IOU: 0.725320, GIOU: 0.717068), Class: 0.966748, Obj: 0.526111, No Obj: 0.000928, .5R: 1.000000, .75R: 0.400000, count: 5, loss = 0.357125, class_loss = 0.271816, iou_loss = 0.085309\n",
            "v3 (mse loss, Normalizer: (iou: 0.750000, cls: 1.000000) Region 23 Avg (IOU: 0.636272, GIOU: 0.611334), Class: 0.890657, Obj: 0.504766, No Obj: 0.000294, .5R: 0.888889, .75R: 0.111111, count: 9, loss = 0.923398, class_loss = 0.578387, iou_loss = 0.345010\n",
            "\n",
            " 14999: 0.411629, 0.506472 avg loss, 0.001000 rate, 1.859489 seconds, 959936 images\n",
            "Loaded: 0.000055 seconds\n",
            "v3 (mse loss, Normalizer: (iou: 0.750000, cls: 1.000000) Region 16 Avg (IOU: 0.698567, GIOU: 0.679451), Class: 0.862522, Obj: 0.592395, No Obj: 0.001485, .5R: 0.909091, .75R: 0.454545, count: 11, loss = 0.848030, class_loss = 0.618410, iou_loss = 0.229620\n",
            "v3 (mse loss, Normalizer: (iou: 0.750000, cls: 1.000000) Region 23 Avg (IOU: 0.769635, GIOU: 0.762749), Class: 0.999714, Obj: 0.675867, No Obj: 0.000083, .5R: 1.000000, .75R: 1.000000, count: 1, loss = 0.071160, class_loss = 0.067260, iou_loss = 0.003900\n",
            "v3 (mse loss, Normalizer: (iou: 0.750000, cls: 1.000000) Region 16 Avg (IOU: 0.753524, GIOU: 0.743974), Class: 0.989034, Obj: 0.590807, No Obj: 0.001662, .5R: 1.000000, .75R: 0.555556, count: 9, loss = 0.569425, class_loss = 0.440910, iou_loss = 0.128515\n",
            "v3 (mse loss, Normalizer: (iou: 0.750000, cls: 1.000000) Region 23 Avg (IOU: -nan, GIOU: -nan), Class: -nan, Obj: -nan, No Obj: 0.000030, .5R: -nan, .75R: -nan, count: 0, loss = 0.000145, class_loss = 0.000145, iou_loss = 0.000000\n",
            "v3 (mse loss, Normalizer: (iou: 0.750000, cls: 1.000000) Region 16 Avg (IOU: 0.774597, GIOU: 0.767330), Class: 0.896695, Obj: 0.946640, No Obj: 0.000860, .5R: 1.000000, .75R: 0.500000, count: 4, loss = 0.156140, class_loss = 0.115927, iou_loss = 0.040213\n",
            "v3 (mse loss, Normalizer: (iou: 0.750000, cls: 1.000000) Region 23 Avg (IOU: 0.624191, GIOU: 0.595328), Class: 0.991766, Obj: 0.421945, No Obj: 0.000209, .5R: 0.833333, .75R: 0.166667, count: 6, loss = 0.688547, class_loss = 0.451518, iou_loss = 0.237029\n",
            "v3 (mse loss, Normalizer: (iou: 0.750000, cls: 1.000000) Region 16 Avg (IOU: 0.716242, GIOU: 0.694522), Class: 0.828800, Obj: 0.769063, No Obj: 0.001464, .5R: 1.000000, .75R: 0.285714, count: 7, loss = 0.583876, class_loss = 0.427355, iou_loss = 0.156521\n",
            "v3 (mse loss, Normalizer: (iou: 0.750000, cls: 1.000000) Region 23 Avg (IOU: 0.667592, GIOU: 0.643151), Class: 0.992116, Obj: 0.668955, No Obj: 0.000301, .5R: 0.857143, .75R: 0.428571, count: 7, loss = 0.345799, class_loss = 0.233649, iou_loss = 0.112150\n",
            "v3 (mse loss, Normalizer: (iou: 0.750000, cls: 1.000000) Region 16 Avg (IOU: 0.771043, GIOU: 0.759070), Class: 0.956565, Obj: 0.721465, No Obj: 0.001439, .5R: 1.000000, .75R: 0.714286, count: 7, loss = 0.594199, class_loss = 0.485609, iou_loss = 0.108590\n",
            "v3 (mse loss, Normalizer: (iou: 0.750000, cls: 1.000000) Region 23 Avg (IOU: 0.604536, GIOU: 0.570830), Class: 0.573608, Obj: 0.042129, No Obj: 0.000035, .5R: 1.000000, .75R: 0.000000, count: 2, loss = 0.424030, class_loss = 0.363694, iou_loss = 0.060336\n",
            "v3 (mse loss, Normalizer: (iou: 0.750000, cls: 1.000000) Region 16 Avg (IOU: 0.704399, GIOU: 0.691957), Class: 0.982858, Obj: 0.676643, No Obj: 0.001620, .5R: 1.000000, .75R: 0.333333, count: 6, loss = 0.620968, class_loss = 0.519885, iou_loss = 0.101083\n",
            "v3 (mse loss, Normalizer: (iou: 0.750000, cls: 1.000000) Region 23 Avg (IOU: 0.674339, GIOU: 0.656708), Class: 0.992547, Obj: 0.089790, No Obj: 0.000060, .5R: 1.000000, .75R: 0.250000, count: 4, loss = 0.545671, class_loss = 0.423980, iou_loss = 0.121691\n",
            "v3 (mse loss, Normalizer: (iou: 0.750000, cls: 1.000000) Region 16 Avg (IOU: 0.660926, GIOU: 0.641203), Class: 0.879883, Obj: 0.666768, No Obj: 0.001148, .5R: 1.000000, .75R: 0.500000, count: 6, loss = 0.637172, class_loss = 0.532315, iou_loss = 0.104857\n",
            "v3 (mse loss, Normalizer: (iou: 0.750000, cls: 1.000000) Region 23 Avg (IOU: 0.679040, GIOU: 0.655978), Class: 0.969470, Obj: 0.540808, No Obj: 0.000215, .5R: 1.000000, .75R: 0.333333, count: 6, loss = 0.418042, class_loss = 0.314434, iou_loss = 0.103608\n",
            "v3 (mse loss, Normalizer: (iou: 0.750000, cls: 1.000000) Region 16 Avg (IOU: 0.707520, GIOU: 0.689253), Class: 0.972627, Obj: 0.654373, No Obj: 0.001241, .5R: 0.833333, .75R: 0.333333, count: 6, loss = 0.268250, class_loss = 0.182180, iou_loss = 0.086070\n",
            "v3 (mse loss, Normalizer: (iou: 0.750000, cls: 1.000000) Region 23 Avg (IOU: 0.704418, GIOU: 0.683775), Class: 0.981659, Obj: 0.283831, No Obj: 0.000194, .5R: 0.833333, .75R: 0.500000, count: 6, loss = 0.608494, class_loss = 0.515347, iou_loss = 0.093147\n",
            "\n",
            " 15000: 0.461247, 0.501949 avg loss, 0.001000 rate, 1.863711 seconds, 960000 images\n",
            "Saving weights to build/darknet/x64/backup//yolov3-tiny-obj_15000.weights\n",
            "Saving weights to build/darknet/x64/backup//yolov3-tiny-obj_last.weights\n",
            "Resizing\n",
            "512 x 512 \n",
            " try to allocate additional workspace_size = 37.75 MB \n",
            " CUDA allocate done! \n",
            "Loaded: 1.058273 seconds\n",
            "v3 (mse loss, Normalizer: (iou: 0.750000, cls: 1.000000) Region 16 Avg (IOU: 0.665034, GIOU: 0.642669), Class: 0.992382, Obj: 0.803472, No Obj: 0.001629, .5R: 0.875000, .75R: 0.500000, count: 8, loss = 0.307290, class_loss = 0.165996, iou_loss = 0.141294\n",
            "v3 (mse loss, Normalizer: (iou: 0.750000, cls: 1.000000) Region 23 Avg (IOU: 0.530135, GIOU: 0.459065), Class: 0.941723, Obj: 0.054032, No Obj: 0.000118, .5R: 0.500000, .75R: 0.000000, count: 2, loss = 0.480693, class_loss = 0.282827, iou_loss = 0.197866\n",
            "^C\n"
          ],
          "name": "stdout"
        }
      ]
    },
    {
      "cell_type": "code",
      "metadata": {
        "id": "aRKCTHn4_zEr",
        "colab_type": "code",
        "colab": {}
      },
      "source": [
        ""
      ],
      "execution_count": null,
      "outputs": []
    }
  ]
}